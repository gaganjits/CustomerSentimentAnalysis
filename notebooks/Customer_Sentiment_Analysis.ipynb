{
 "cells": [
  {
   "cell_type": "markdown",
   "metadata": {},
   "source": [
    "# Customer Sentiment Analysis - iPhone 15 128GB\n",
    "\n",
    "## Project Overview\n",
    "\n",
    "This notebook performs comprehensive sentiment analysis on customer reviews for the iPhone 15 128GB model from Flipkart. The analysis includes:\n",
    "\n",
    "1. **Data Collection**: Web scraping using Selenium and BeautifulSoup\n",
    "2. **Data Preprocessing**: Cleaning and preparing text data using Pandas and NLTK\n",
    "3. **Sentiment Analysis**: Analyzing sentiment using TextBlob\n",
    "4. **Data Visualization**: Creating insightful visualizations using Matplotlib, Seaborn, and WordCloud\n",
    "\n",
    "**Author**: Data Analyst Team\n",
    "\n",
    "**Date**: 2025\n",
    "\n",
    "**Target**: Analyze 300+ customer reviews to understand public sentiment"
   ]
  },
  {
   "cell_type": "markdown",
   "metadata": {},
   "source": [
    "## 1. Setup and Imports\n",
    "\n",
    "Import all necessary libraries and custom modules."
   ]
  },
  {
   "cell_type": "code",
   "execution_count": null,
   "metadata": {},
   "outputs": [],
   "source": [
    "# Standard library imports\n",
    "import sys\n",
    "import os\n",
    "import warnings\n",
    "warnings.filterwarnings('ignore')\n",
    "\n",
    "# Add src directory to path\n",
    "sys.path.append('../src')\n",
    "\n",
    "# Data manipulation\n",
    "import pandas as pd\n",
    "import numpy as np\n",
    "\n",
    "# Custom modules\n",
    "from scraper import FlipkartReviewScraper, save_reviews, load_reviews\n",
    "from preprocessor import ReviewPreprocessor, save_preprocessed_data, load_preprocessed_data\n",
    "from sentiment_analyzer import SentimentAnalyzer, save_sentiment_results, print_sentiment_report\n",
    "from visualizer import SentimentVisualizer\n",
    "\n",
    "# Display settings\n",
    "pd.set_option('display.max_columns', None)\n",
    "pd.set_option('display.max_colwidth', 100)\n",
    "\n",
    "print(\"All libraries imported successfully!\")"
   ]
  },
  {
   "cell_type": "markdown",
   "metadata": {},
   "source": [
    "## 2. Data Collection - Web Scraping\n",
    "\n",
    "Scrape customer reviews from Flipkart using Selenium and BeautifulSoup.\n",
    "\n",
    "### 2.1 Configure Scraper"
   ]
  },
  {
   "cell_type": "code",
   "execution_count": null,
   "metadata": {},
   "outputs": [],
   "source": [
    "# Flipkart product URL for iPhone 15 128GB\n",
    "PRODUCT_URL = \"https://www.flipkart.com/apple-iphone-15-black-128-gb/p/itm6d16e1cf03604\"\n",
    "\n",
    "# Target number of reviews to scrape\n",
    "TARGET_REVIEWS = 300\n",
    "\n",
    "print(f\"Target: Scrape {TARGET_REVIEWS} reviews from Flipkart\")\n",
    "print(f\"Product URL: {PRODUCT_URL}\")"
   ]
  },
  {
   "cell_type": "markdown",
   "metadata": {},
   "source": [
    "### 2.2 Scrape Reviews\n",
    "\n",
    "**Note**: This cell will take several minutes to complete as it needs to navigate through multiple pages and extract reviews.\n",
    "\n",
    "**Alternative**: If you have already scraped reviews, skip this cell and load the saved data in the next section."
   ]
  },
  {
   "cell_type": "code",
   "execution_count": null,
   "metadata": {},
   "outputs": [],
   "source": [
    "# Initialize scraper (set headless=False to watch the browser in action)\n",
    "scraper = FlipkartReviewScraper(PRODUCT_URL, headless=True)\n",
    "\n",
    "# Scrape reviews\n",
    "print(\"Starting web scraping process...\\n\")\n",
    "reviews_df = scraper.scrape_reviews(target_count=TARGET_REVIEWS, max_pages=30)\n",
    "\n",
    "# Save scraped data\n",
    "if not reviews_df.empty:\n",
    "    save_reviews(reviews_df, '../data/raw_reviews.csv')\n",
    "    print(f\"\\nSuccessfully scraped {len(reviews_df)} reviews!\")\n",
    "else:\n",
    "    print(\"\\nNo reviews were scraped. Please check the scraper configuration.\")"
   ]
  },
  {
   "cell_type": "markdown",
   "metadata": {},
   "source": [
    "### 2.3 Load Scraped Data"
   ]
  },
  {
   "cell_type": "code",
   "execution_count": null,
   "metadata": {},
   "outputs": [],
   "source": [
    "# Load the scraped reviews\n",
    "reviews_df = load_reviews('../data/raw_reviews.csv')\n",
    "\n",
    "# Display basic information\n",
    "print(f\"\\nDataset Shape: {reviews_df.shape}\")\n",
    "print(f\"Columns: {list(reviews_df.columns)}\")\n",
    "print(f\"\\nFirst 5 reviews:\")\n",
    "reviews_df.head()"
   ]
  },
  {
   "cell_type": "markdown",
   "metadata": {},
   "source": [
    "### 2.4 Initial Data Exploration"
   ]
  },
  {
   "cell_type": "code",
   "execution_count": null,
   "metadata": {},
   "outputs": [],
   "source": [
    "# Data summary\n",
    "print(\"Dataset Information:\")\n",
    "print(\"=\" * 60)\n",
    "reviews_df.info()\n",
    "\n",
    "print(\"\\nMissing Values:\")\n",
    "print(reviews_df.isnull().sum())\n",
    "\n",
    "print(\"\\nRating Distribution:\")\n",
    "print(reviews_df['rating'].value_counts().sort_index())\n",
    "\n",
    "print(\"\\nBasic Statistics:\")\n",
    "reviews_df.describe()"
   ]
  },
  {
   "cell_type": "markdown",
   "metadata": {},
   "source": [
    "## 3. Data Preprocessing\n",
    "\n",
    "Clean and preprocess the review text for analysis.\n",
    "\n",
    "### 3.1 Initialize Preprocessor"
   ]
  },
  {
   "cell_type": "code",
   "execution_count": null,
   "metadata": {},
   "outputs": [],
   "source": [
    "# Initialize preprocessor\n",
    "preprocessor = ReviewPreprocessor()\n",
    "\n",
    "print(\"Preprocessor initialized successfully!\")"
   ]
  },
  {
   "cell_type": "markdown",
   "metadata": {},
   "source": [
    "### 3.2 Apply Preprocessing Pipeline"
   ]
  },
  {
   "cell_type": "code",
   "execution_count": null,
   "metadata": {},
   "outputs": [],
   "source": [
    "# Preprocess the data\n",
    "preprocessed_df = preprocessor.preprocess_dataframe(reviews_df)\n",
    "\n",
    "# Display results\n",
    "print(\"\\nPreprocessed Dataset Shape:\", preprocessed_df.shape)\n",
    "preprocessed_df.head()"
   ]
  },
  {
   "cell_type": "markdown",
   "metadata": {},
   "source": [
    "### 3.3 Compare Original vs Preprocessed Text"
   ]
  },
  {
   "cell_type": "code",
   "execution_count": null,
   "metadata": {},
   "outputs": [],
   "source": [
    "# Show examples of text preprocessing\n",
    "print(\"Examples of Text Preprocessing:\")\n",
    "print(\"=\" * 100)\n",
    "\n",
    "for i in range(3):\n",
    "    print(f\"\\nExample {i+1}:\")\n",
    "    print(f\"Original: {preprocessed_df.iloc[i]['review_text'][:200]}...\")\n",
    "    print(f\"Cleaned: {preprocessed_df.iloc[i]['cleaned_text'][:200]}...\")\n",
    "    print(f\"Preprocessed: {preprocessed_df.iloc[i]['preprocessed_text'][:200]}...\")\n",
    "    print(\"-\" * 100)"
   ]
  },
  {
   "cell_type": "markdown",
   "metadata": {},
   "source": [
    "### 3.4 Preprocessing Summary"
   ]
  },
  {
   "cell_type": "code",
   "execution_count": null,
   "metadata": {},
   "outputs": [],
   "source": [
    "# Get preprocessing summary\n",
    "summary = preprocessor.get_preprocessing_summary(preprocessed_df)\n",
    "\n",
    "print(\"Preprocessing Summary:\")\n",
    "print(\"=\" * 60)\n",
    "for key, value in summary.items():\n",
    "    print(f\"{key}: {value}\")\n",
    "\n",
    "# Save preprocessed data\n",
    "save_preprocessed_data(preprocessed_df, '../data/preprocessed_reviews.csv')"
   ]
  },
  {
   "cell_type": "markdown",
   "metadata": {},
   "source": [
    "## 4. Sentiment Analysis\n",
    "\n",
    "Perform sentiment analysis using TextBlob.\n",
    "\n",
    "### 4.1 Initialize Sentiment Analyzer"
   ]
  },
  {
   "cell_type": "code",
   "execution_count": null,
   "metadata": {},
   "outputs": [],
   "source": [
    "# Initialize sentiment analyzer with threshold of 0.1\n",
    "analyzer = SentimentAnalyzer(polarity_threshold=0.1)\n",
    "\n",
    "print(\"Sentiment Analyzer initialized!\")\n",
    "print(f\"Polarity threshold: {analyzer.polarity_threshold}\")\n",
    "print(\"Polarity >= 0.1 → Positive\")\n",
    "print(\"Polarity < 0.1 → Negative\")"
   ]
  },
  {
   "cell_type": "markdown",
   "metadata": {},
   "source": [
    "### 4.2 Perform Sentiment Analysis"
   ]
  },
  {
   "cell_type": "code",
   "execution_count": null,
   "metadata": {},
   "outputs": [],
   "source": [
    "# Analyze sentiment\n",
    "sentiment_df = analyzer.analyze_dataframe(preprocessed_df, text_column='review_text')\n",
    "\n",
    "# Display results\n",
    "print(\"\\nSentiment Analysis Complete!\")\n",
    "print(f\"Dataset Shape: {sentiment_df.shape}\")\n",
    "print(f\"\\nNew columns added: {['polarity', 'subjectivity', 'sentiment', 'sentiment_category']}\")\n",
    "\n",
    "# Show sample results\n",
    "sentiment_df[['username', 'rating', 'review_text', 'polarity', 'sentiment']].head(10)"
   ]
  },
  {
   "cell_type": "markdown",
   "metadata": {},
   "source": [
    "### 4.3 Sentiment Analysis Summary"
   ]
  },
  {
   "cell_type": "code",
   "execution_count": null,
   "metadata": {},
   "outputs": [],
   "source": [
    "# Get summary statistics\n",
    "sentiment_summary = analyzer.get_sentiment_summary(sentiment_df)\n",
    "\n",
    "# Print formatted report\n",
    "print_sentiment_report(sentiment_summary)"
   ]
  },
  {
   "cell_type": "markdown",
   "metadata": {},
   "source": [
    "### 4.4 Sentiment Analysis by Rating"
   ]
  },
  {
   "cell_type": "code",
   "execution_count": null,
   "metadata": {},
   "outputs": [],
   "source": [
    "# Analyze sentiment by rating\n",
    "sentiment_by_rating = analyzer.analyze_sentiment_by_rating(sentiment_df)\n",
    "\n",
    "print(\"Sentiment Analysis by Rating:\")\n",
    "print(\"=\" * 80)\n",
    "print(sentiment_by_rating)\n",
    "\n",
    "# Correlation analysis\n",
    "correlation = analyzer.analyze_correlation(sentiment_df)"
   ]
  },
  {
   "cell_type": "markdown",
   "metadata": {},
   "source": [
    "### 4.5 Extreme Reviews (Most Positive and Negative)"
   ]
  },
  {
   "cell_type": "code",
   "execution_count": null,
   "metadata": {},
   "outputs": [],
   "source": [
    "# Get extreme reviews\n",
    "extreme_reviews = analyzer.get_extreme_reviews(sentiment_df, n=5)\n",
    "\n",
    "print(\"Top 5 Most Positive Reviews:\")\n",
    "print(\"=\" * 100)\n",
    "for idx, row in extreme_reviews['most_positive'].iterrows():\n",
    "    print(f\"\\nUser: {row['username']} | Rating: {row['rating']} | Polarity: {row['polarity']:.3f}\")\n",
    "    print(f\"Review: {row['review_text'][:200]}...\")\n",
    "    print(\"-\" * 100)\n",
    "\n",
    "print(\"\\n\\nTop 5 Most Negative Reviews:\")\n",
    "print(\"=\" * 100)\n",
    "for idx, row in extreme_reviews['most_negative'].iterrows():\n",
    "    print(f\"\\nUser: {row['username']} | Rating: {row['rating']} | Polarity: {row['polarity']:.3f}\")\n",
    "    print(f\"Review: {row['review_text'][:200]}...\")\n",
    "    print(\"-\" * 100)"
   ]
  },
  {
   "cell_type": "markdown",
   "metadata": {},
   "source": [
    "### 4.6 Save Sentiment Analysis Results"
   ]
  },
  {
   "cell_type": "code",
   "execution_count": null,
   "metadata": {},
   "outputs": [],
   "source": [
    "# Save results\n",
    "save_sentiment_results(sentiment_df, '../data/sentiment_analysis_results.csv')\n",
    "\n",
    "print(\"Sentiment analysis results saved successfully!\")"
   ]
  },
  {
   "cell_type": "markdown",
   "metadata": {},
   "source": [
    "## 5. Data Visualization\n",
    "\n",
    "Create comprehensive visualizations to understand sentiment patterns.\n",
    "\n",
    "### 5.1 Initialize Visualizer"
   ]
  },
  {
   "cell_type": "code",
   "execution_count": null,
   "metadata": {},
   "outputs": [],
   "source": [
    "# Initialize visualizer\n",
    "visualizer = SentimentVisualizer(figsize=(14, 6))\n",
    "\n",
    "print(\"Visualizer initialized successfully!\")"
   ]
  },
  {
   "cell_type": "markdown",
   "metadata": {},
   "source": [
    "### 5.2 Sentiment Distribution"
   ]
  },
  {
   "cell_type": "code",
   "execution_count": null,
   "metadata": {},
   "outputs": [],
   "source": [
    "# Plot sentiment distribution\n",
    "visualizer.plot_sentiment_distribution(sentiment_df)"
   ]
  },
  {
   "cell_type": "markdown",
   "metadata": {},
   "source": [
    "### 5.3 Sentiment by Rating"
   ]
  },
  {
   "cell_type": "code",
   "execution_count": null,
   "metadata": {},
   "outputs": [],
   "source": [
    "# Plot sentiment by rating\n",
    "visualizer.plot_sentiment_by_rating(sentiment_df)"
   ]
  },
  {
   "cell_type": "markdown",
   "metadata": {},
   "source": [
    "### 5.4 Polarity Distribution"
   ]
  },
  {
   "cell_type": "code",
   "execution_count": null,
   "metadata": {},
   "outputs": [],
   "source": [
    "# Plot polarity distribution\n",
    "visualizer.plot_polarity_distribution(sentiment_df)"
   ]
  },
  {
   "cell_type": "markdown",
   "metadata": {},
   "source": [
    "### 5.5 Review Length Analysis"
   ]
  },
  {
   "cell_type": "code",
   "execution_count": null,
   "metadata": {},
   "outputs": [],
   "source": [
    "# Plot review length analysis\n",
    "visualizer.plot_review_length_analysis(sentiment_df)"
   ]
  },
  {
   "cell_type": "markdown",
   "metadata": {},
   "source": [
    "### 5.6 Word Clouds"
   ]
  },
  {
   "cell_type": "code",
   "execution_count": null,
   "metadata": {},
   "outputs": [],
   "source": [
    "# Create word cloud for positive reviews\n",
    "visualizer.create_wordcloud(sentiment_df, sentiment_type='Positive')"
   ]
  },
  {
   "cell_type": "code",
   "execution_count": null,
   "metadata": {},
   "outputs": [],
   "source": [
    "# Create word cloud for negative reviews\n",
    "visualizer.create_wordcloud(sentiment_df, sentiment_type='Negative')"
   ]
  },
  {
   "cell_type": "markdown",
   "metadata": {},
   "source": [
    "### 5.7 Detailed Sentiment Categories"
   ]
  },
  {
   "cell_type": "code",
   "execution_count": null,
   "metadata": {},
   "outputs": [],
   "source": [
    "# Plot sentiment categories\n",
    "visualizer.plot_sentiment_categories(sentiment_df)"
   ]
  },
  {
   "cell_type": "markdown",
   "metadata": {},
   "source": [
    "## 6. Key Insights and Findings\n",
    "\n",
    "### 6.1 Overall Sentiment Analysis"
   ]
  },
  {
   "cell_type": "code",
   "execution_count": null,
   "metadata": {},
   "outputs": [],
   "source": [
    "# Calculate key metrics\n",
    "total_reviews = len(sentiment_df)\n",
    "positive_count = len(sentiment_df[sentiment_df['sentiment'] == 'Positive'])\n",
    "negative_count = len(sentiment_df[sentiment_df['sentiment'] == 'Negative'])\n",
    "avg_rating = sentiment_df['rating'].mean()\n",
    "avg_polarity = sentiment_df['polarity'].mean()\n",
    "\n",
    "print(\"KEY INSIGHTS - iPhone 15 128GB Customer Sentiment\")\n",
    "print(\"=\" * 80)\n",
    "print(f\"\\n1. Overall Sentiment Distribution:\")\n",
    "print(f\"   - Total Reviews Analyzed: {total_reviews}\")\n",
    "print(f\"   - Positive Reviews: {positive_count} ({positive_count/total_reviews*100:.1f}%)\")\n",
    "print(f\"   - Negative Reviews: {negative_count} ({negative_count/total_reviews*100:.1f}%)\")\n",
    "print(f\"\\n2. Average Metrics:\")\n",
    "print(f\"   - Average Rating: {avg_rating:.2f} / 5.0\")\n",
    "print(f\"   - Average Sentiment Polarity: {avg_polarity:.3f}\")\n",
    "print(f\"\\n3. Rating-Sentiment Correlation:\")\n",
    "print(f\"   - Correlation Coefficient: {correlation:.3f}\")\n",
    "\n",
    "if correlation > 0.7:\n",
    "    print(\"   - Strong positive correlation: Higher ratings align with positive sentiment\")\n",
    "elif correlation > 0.4:\n",
    "    print(\"   - Moderate positive correlation: Some alignment between ratings and sentiment\")\n",
    "else:\n",
    "    print(\"   - Weak correlation: Ratings may not fully reflect sentiment\")"
   ]
  },
  {
   "cell_type": "markdown",
   "metadata": {},
   "source": [
    "### 6.2 Common Topics in Positive Reviews"
   ]
  },
  {
   "cell_type": "code",
   "execution_count": null,
   "metadata": {},
   "outputs": [],
   "source": [
    "# Extract common words from positive reviews\n",
    "from collections import Counter\n",
    "\n",
    "positive_reviews = sentiment_df[sentiment_df['sentiment'] == 'Positive']['preprocessed_text']\n",
    "positive_words = ' '.join(positive_reviews.astype(str)).split()\n",
    "positive_word_freq = Counter(positive_words).most_common(20)\n",
    "\n",
    "print(\"Top 20 Words in Positive Reviews:\")\n",
    "print(\"=\" * 60)\n",
    "for word, freq in positive_word_freq:\n",
    "    print(f\"{word:20s} : {freq:4d}\")"
   ]
  },
  {
   "cell_type": "markdown",
   "metadata": {},
   "source": [
    "### 6.3 Common Topics in Negative Reviews"
   ]
  },
  {
   "cell_type": "code",
   "execution_count": null,
   "metadata": {},
   "outputs": [],
   "source": [
    "# Extract common words from negative reviews\n",
    "negative_reviews = sentiment_df[sentiment_df['sentiment'] == 'Negative']['preprocessed_text']\n",
    "negative_words = ' '.join(negative_reviews.astype(str)).split()\n",
    "negative_word_freq = Counter(negative_words).most_common(20)\n",
    "\n",
    "print(\"Top 20 Words in Negative Reviews:\")\n",
    "print(\"=\" * 60)\n",
    "for word, freq in negative_word_freq:\n",
    "    print(f\"{word:20s} : {freq:4d}\")"
   ]
  },
  {
   "cell_type": "markdown",
   "metadata": {},
   "source": [
    "## 7. Recommendations\n",
    "\n",
    "Based on the sentiment analysis results, here are actionable recommendations:"
   ]
  },
  {
   "cell_type": "code",
   "execution_count": null,
   "metadata": {},
   "outputs": [],
   "source": [
    "print(\"RECOMMENDATIONS FOR AMAZON - iPhone 15 128GB\")\n",
    "print(\"=\" * 80)\n",
    "\n",
    "# Determine recommendation based on sentiment\n",
    "positive_percentage = (positive_count / total_reviews) * 100\n",
    "\n",
    "print(\"\\n1. Product Performance:\")\n",
    "if positive_percentage > 70:\n",
    "    print(\"   - Overall customer sentiment is HIGHLY POSITIVE\")\n",
    "    print(\"   - Product is well-received by customers\")\n",
    "    print(\"   - Continue emphasizing positive features in marketing\")\n",
    "elif positive_percentage > 50:\n",
    "    print(\"   - Overall customer sentiment is MODERATELY POSITIVE\")\n",
    "    print(\"   - Product has good reception but room for improvement\")\n",
    "    print(\"   - Address common negative feedback points\")\n",
    "else:\n",
    "    print(\"   - Overall customer sentiment is MIXED or NEGATIVE\")\n",
    "    print(\"   - Significant improvements needed\")\n",
    "    print(\"   - Investigate and address major customer concerns\")\n",
    "\n",
    "print(\"\\n2. Marketing Strategy:\")\n",
    "print(\"   - Highlight most frequently mentioned positive features\")\n",
    "print(\"   - Use positive customer testimonials in campaigns\")\n",
    "print(\"   - Address common concerns proactively in product descriptions\")\n",
    "\n",
    "print(\"\\n3. Customer Experience Improvements:\")\n",
    "print(\"   - Focus on issues mentioned in negative reviews\")\n",
    "print(\"   - Provide better product information to set accurate expectations\")\n",
    "print(\"   - Improve post-purchase support for identified pain points\")\n",
    "\n",
    "print(\"\\n4. Product Page Optimization:\")\n",
    "print(\"   - Feature verified positive reviews prominently\")\n",
    "print(\"   - Create FAQ section addressing common concerns\")\n",
    "print(\"   - Use customer language in product descriptions\")\n",
    "\n",
    "print(\"\\n5. Inventory and Pricing Strategy:\")\n",
    "if avg_rating >= 4.0:\n",
    "    print(\"   - High customer satisfaction supports premium positioning\")\n",
    "    print(\"   - Ensure adequate inventory to meet demand\")\n",
    "else:\n",
    "    print(\"   - Consider promotional strategies to address sentiment concerns\")\n",
    "    print(\"   - Bundle with accessories to enhance value perception\")\n",
    "\n",
    "print(\"\\n\" + \"=\" * 80)"
   ]
  },
  {
   "cell_type": "markdown",
   "metadata": {},
   "source": [
    "## 8. Export Final Report"
   ]
  },
  {
   "cell_type": "code",
   "execution_count": null,
   "metadata": {},
   "outputs": [],
   "source": [
    "# Create comprehensive visualization dashboard\n",
    "print(\"Creating comprehensive visualization dashboard...\")\n",
    "visualizer.create_comprehensive_dashboard(sentiment_df, output_dir='../data/visualizations')\n",
    "\n",
    "print(\"\\nAll analysis complete!\")\n",
    "print(\"\\nGenerated Files:\")\n",
    "print(\"  - ../data/raw_reviews.csv\")\n",
    "print(\"  - ../data/preprocessed_reviews.csv\")\n",
    "print(\"  - ../data/sentiment_analysis_results.csv\")\n",
    "print(\"  - ../data/visualizations/ (all visualization files)\")"
   ]
  },
  {
   "cell_type": "markdown",
   "metadata": {},
   "source": [
    "## 9. Conclusion\n",
    "\n",
    "This comprehensive sentiment analysis of iPhone 15 128GB customer reviews from Flipkart provides valuable insights into customer perception and satisfaction. The analysis workflow included:\n",
    "\n",
    "1. **Web Scraping**: Successfully collected 300+ customer reviews using Selenium and BeautifulSoup\n",
    "2. **Data Preprocessing**: Cleaned and processed text data using advanced NLP techniques\n",
    "3. **Sentiment Analysis**: Applied TextBlob to classify reviews and extract sentiment scores\n",
    "4. **Visualization**: Created comprehensive visual representations of sentiment patterns\n",
    "5. **Insights Generation**: Derived actionable insights and recommendations\n",
    "\n",
    "The results can be used by Amazon's product and marketing teams to:\n",
    "- Understand customer sentiment trends\n",
    "- Identify product strengths and weaknesses\n",
    "- Optimize product positioning and marketing strategies\n",
    "- Improve customer experience based on feedback\n",
    "- Make data-driven decisions about inventory and pricing\n",
    "\n",
    "### Next Steps:\n",
    "1. Monitor sentiment trends over time with periodic analysis\n",
    "2. Compare sentiment across different iPhone models\n",
    "3. Analyze sentiment by customer demographics if data available\n",
    "4. Implement real-time sentiment monitoring dashboard\n",
    "5. Integrate sentiment analysis into product decision-making process"
   ]
  }
 ],
 "metadata": {
  "kernelspec": {
   "display_name": "Python 3",
   "language": "python",
   "name": "python3"
  },
  "language_info": {
   "codemirror_mode": {
    "name": "ipython",
    "version": 3
   },
   "file_extension": ".py",
   "mimetype": "text/x-python",
   "name": "python",
   "nbconvert_exporter": "python",
   "pygments_lexer": "ipython3",
   "version": "3.9.0"
  }
 },
 "nbformat": 4,
 "nbformat_minor": 4
}
