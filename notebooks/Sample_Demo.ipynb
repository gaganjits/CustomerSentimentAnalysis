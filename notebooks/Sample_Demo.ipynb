{
 "cells": [
  {
   "cell_type": "markdown",
   "metadata": {},
   "source": [
    "# Sample Input/Output Demo - Customer Sentiment Analysis\n",
    "\n",
    "This notebook demonstrates the functionality of the sentiment analysis system using sample data.\n",
    "You can run this without web scraping to see how the system works."
   ]
  },
  {
   "cell_type": "markdown",
   "metadata": {},
   "source": [
    "## 1. Setup"
   ]
  },
  {
   "cell_type": "code",
   "execution_count": null,
   "metadata": {},
   "outputs": [],
   "source": [
    "import sys\n",
    "import warnings\n",
    "warnings.filterwarnings('ignore')\n",
    "\n",
    "sys.path.append('../src')\n",
    "\n",
    "import pandas as pd\n",
    "from preprocessor import ReviewPreprocessor\n",
    "from sentiment_analyzer import SentimentAnalyzer, print_sentiment_report\n",
    "from visualizer import SentimentVisualizer\n",
    "\n",
    "print(\"Libraries imported successfully!\")"
   ]
  },
  {
   "cell_type": "markdown",
   "metadata": {},
   "source": [
    "## 2. Sample Input Data\n",
    "\n",
    "Here are 20 sample reviews to demonstrate the system functionality."
   ]
  },
  {
   "cell_type": "code",
   "execution_count": null,
   "metadata": {},
   "outputs": [],
   "source": [
    "# Sample review data\n",
    "sample_reviews = [\n",
    "    {\"username\": \"Rahul K\", \"rating\": 5.0, \"review_text\": \"Excellent phone! The camera quality is outstanding and battery life is amazing. Very happy with this purchase.\"},\n",
    "    {\"username\": \"Priya S\", \"rating\": 5.0, \"review_text\": \"Best iPhone ever! Super fast performance, beautiful display, and the build quality is premium. Highly recommended!\"},\n",
    "    {\"username\": \"Amit P\", \"rating\": 4.0, \"review_text\": \"Good phone with great features. Camera is really good but the price is a bit high. Overall satisfied.\"},\n",
    "    {\"username\": \"Sneha M\", \"rating\": 5.0, \"review_text\": \"Love this phone! The design is sleek and elegant. Face ID works perfectly and iOS is very smooth.\"},\n",
    "    {\"username\": \"Vikram T\", \"rating\": 2.0, \"review_text\": \"Disappointed with battery backup. Phone heats up during gaming. Expected better for this price point.\"},\n",
    "    {\"username\": \"Anjali R\", \"rating\": 5.0, \"review_text\": \"Amazing product! Fast delivery, genuine product. Camera quality in low light is superb. Worth every penny.\"},\n",
    "    {\"username\": \"Karthik N\", \"rating\": 4.0, \"review_text\": \"Very good phone. Performance is excellent. Only issue is the battery drains quickly with heavy usage.\"},\n",
    "    {\"username\": \"Divya L\", \"rating\": 5.0, \"review_text\": \"Perfect phone! The A16 chip is lightning fast. Love the new camera features and the video quality is incredible.\"},\n",
    "    {\"username\": \"Rohan G\", \"rating\": 3.0, \"review_text\": \"Decent phone but overpriced. Battery life is average. Camera is good but not a huge upgrade from iPhone 14.\"},\n",
    "    {\"username\": \"Meera B\", \"rating\": 5.0, \"review_text\": \"Absolutely love it! The dynamic island is so cool and useful. Best purchase of the year!\"},\n",
    "    {\"username\": \"Arjun D\", \"rating\": 1.0, \"review_text\": \"Very bad experience. Phone has heating issues and battery drains within 4-5 hours. Not worth the money.\"},\n",
    "    {\"username\": \"Pooja V\", \"rating\": 4.0, \"review_text\": \"Good phone overall. Display is vibrant, performance is smooth. Wish it had better battery backup.\"},\n",
    "    {\"username\": \"Sanjay K\", \"rating\": 5.0, \"review_text\": \"Excellent build quality and premium feel. Camera is top-notch. Very happy with the purchase!\"},\n",
    "    {\"username\": \"Nisha A\", \"rating\": 2.0, \"review_text\": \"Not satisfied. Phone gets hot during video calls. Battery life is poor compared to android phones in same price.\"},\n",
    "    {\"username\": \"Aditya M\", \"rating\": 5.0, \"review_text\": \"Best smartphone I've owned! Super fast, amazing camera, and the ecosystem is unbeatable. Love it!\"},\n",
    "    {\"username\": \"Kavya S\", \"rating\": 4.0, \"review_text\": \"Nice phone with good features. Camera quality is excellent. Storage could have been more for the price.\"},\n",
    "    {\"username\": \"Deepak R\", \"rating\": 5.0, \"review_text\": \"Outstanding phone! The display is gorgeous, performance is blazing fast. Totally worth the investment.\"},\n",
    "    {\"username\": \"Swati P\", \"rating\": 3.0, \"review_text\": \"Average experience. Phone is good but expected more. Battery backup is not great. Camera is the only saving grace.\"},\n",
    "    {\"username\": \"Nikhil J\", \"rating\": 5.0, \"review_text\": \"Superb phone! Everything works perfectly. Great camera, smooth performance, and elegant design. Highly recommend!\"},\n",
    "    {\"username\": \"Riya C\", \"rating\": 4.0, \"review_text\": \"Very good phone. Love the camera and display. Battery could be better but overall a great purchase.\"}\n",
    "]\n",
    "\n",
    "# Create DataFrame\n",
    "df = pd.DataFrame(sample_reviews)\n",
    "\n",
    "print(f\"Created sample dataset with {len(df)} reviews\\n\")\n",
    "print(\"Sample Input Data:\")\n",
    "print(\"=\" * 100)\n",
    "df"
   ]
  },
  {
   "cell_type": "markdown",
   "metadata": {},
   "source": [
    "## 3. Data Preprocessing Demo\n",
    "\n",
    "Demonstrate text cleaning and preprocessing."
   ]
  },
  {
   "cell_type": "code",
   "execution_count": null,
   "metadata": {},
   "outputs": [],
   "source": [
    "# Initialize preprocessor\n",
    "preprocessor = ReviewPreprocessor()\n",
    "\n",
    "# Preprocess the data\n",
    "print(\"Preprocessing sample reviews...\\n\")\n",
    "processed_df = preprocessor.preprocess_dataframe(df.copy())\n",
    "\n",
    "print(\"\\n\" + \"=\" * 100)\n",
    "print(\"PREPROCESSING OUTPUT EXAMPLES\")\n",
    "print(\"=\" * 100)\n",
    "\n",
    "# Show 3 examples of preprocessing\n",
    "for i in range(3):\n",
    "    print(f\"\\nExample {i+1}:\")\n",
    "    print(\"-\" * 100)\n",
    "    print(f\"Original Text:\\n{processed_df.iloc[i]['review_text']}\")\n",
    "    print(f\"\\nCleaned Text:\\n{processed_df.iloc[i]['cleaned_text']}\")\n",
    "    print(f\"\\nPreprocessed (Tokenized, Stop words removed, Lemmatized):\\n{processed_df.iloc[i]['preprocessed_text']}\")\n",
    "    print(\"-\" * 100)\n",
    "\n",
    "# Show summary\n",
    "summary = preprocessor.get_preprocessing_summary(processed_df)\n",
    "print(\"\\n\" + \"=\" * 100)\n",
    "print(\"PREPROCESSING SUMMARY\")\n",
    "print(\"=\" * 100)\n",
    "for key, value in summary.items():\n",
    "    print(f\"{key}: {value}\")"
   ]
  },
  {
   "cell_type": "markdown",
   "metadata": {},
   "source": [
    "## 4. Sentiment Analysis Demo\n",
    "\n",
    "Perform sentiment analysis on the sample reviews."
   ]
  },
  {
   "cell_type": "code",
   "execution_count": null,
   "metadata": {},
   "outputs": [],
   "source": [
    "# Initialize sentiment analyzer\n",
    "analyzer = SentimentAnalyzer(polarity_threshold=0.1)\n",
    "\n",
    "# Perform sentiment analysis\n",
    "print(\"Performing sentiment analysis...\\n\")\n",
    "sentiment_df = analyzer.analyze_dataframe(processed_df, text_column='review_text')\n",
    "\n",
    "print(\"=\" * 100)\n",
    "print(\"SENTIMENT ANALYSIS OUTPUT\")\n",
    "print(\"=\" * 100)\n",
    "print(\"\\nReviews with Sentiment Scores:\\n\")\n",
    "sentiment_df[['username', 'rating', 'review_text', 'polarity', 'subjectivity', 'sentiment', 'sentiment_category']].head(10)"
   ]
  },
  {
   "cell_type": "code",
   "execution_count": null,
   "metadata": {},
   "outputs": [],
   "source": [
    "# Get sentiment summary\n",
    "summary = analyzer.get_sentiment_summary(sentiment_df)\n",
    "print_sentiment_report(summary)"
   ]
  },
  {
   "cell_type": "code",
   "execution_count": null,
   "metadata": {},
   "outputs": [],
   "source": [
    "# Show sentiment by rating\n",
    "print(\"\\nSentiment Analysis by Rating:\")\n",
    "print(\"=\" * 100)\n",
    "sentiment_by_rating = analyzer.analyze_sentiment_by_rating(sentiment_df)\n",
    "sentiment_by_rating"
   ]
  },
  {
   "cell_type": "code",
   "execution_count": null,
   "metadata": {},
   "outputs": [],
   "source": [
    "# Show extreme reviews\n",
    "extreme_reviews = analyzer.get_extreme_reviews(sentiment_df, n=3)\n",
    "\n",
    "print(\"\\n\" + \"=\" * 100)\n",
    "print(\"TOP 3 MOST POSITIVE REVIEWS\")\n",
    "print(\"=\" * 100)\n",
    "for idx, row in extreme_reviews['most_positive'].iterrows():\n",
    "    print(f\"\\nUser: {row['username']}\")\n",
    "    print(f\"Rating: {row['rating']} | Polarity: {row['polarity']:.3f} | Sentiment: {row['sentiment']}\")\n",
    "    print(f\"Review: {row['review_text']}\")\n",
    "    print(\"-\" * 100)\n",
    "\n",
    "print(\"\\n\" + \"=\" * 100)\n",
    "print(\"TOP 3 MOST NEGATIVE REVIEWS\")\n",
    "print(\"=\" * 100)\n",
    "for idx, row in extreme_reviews['most_negative'].iterrows():\n",
    "    print(f\"\\nUser: {row['username']}\")\n",
    "    print(f\"Rating: {row['rating']} | Polarity: {row['polarity']:.3f} | Sentiment: {row['sentiment']}\")\n",
    "    print(f\"Review: {row['review_text']}\")\n",
    "    print(\"-\" * 100)"
   ]
  },
  {
   "cell_type": "markdown",
   "metadata": {},
   "source": [
    "## 5. Visualization Demo\n",
    "\n",
    "Create visualizations from the sample data."
   ]
  },
  {
   "cell_type": "code",
   "execution_count": null,
   "metadata": {},
   "outputs": [],
   "source": [
    "# Initialize visualizer\n",
    "visualizer = SentimentVisualizer(figsize=(12, 5))\n",
    "\n",
    "# Sentiment distribution\n",
    "print(\"Creating sentiment distribution visualization...\")\n",
    "visualizer.plot_sentiment_distribution(sentiment_df)"
   ]
  },
  {
   "cell_type": "code",
   "execution_count": null,
   "metadata": {},
   "outputs": [],
   "source": [
    "# Sentiment by rating\n",
    "print(\"Creating sentiment by rating visualization...\")\n",
    "visualizer.plot_sentiment_by_rating(sentiment_df)"
   ]
  },
  {
   "cell_type": "code",
   "execution_count": null,
   "metadata": {},
   "outputs": [],
   "source": [
    "# Polarity distribution\n",
    "print(\"Creating polarity distribution visualization...\")\n",
    "visualizer.plot_polarity_distribution(sentiment_df)"
   ]
  },
  {
   "cell_type": "code",
   "execution_count": null,
   "metadata": {},
   "outputs": [],
   "source": [
    "# Word clouds\n",
    "print(\"Creating word cloud for positive reviews...\")\n",
    "visualizer.create_wordcloud(sentiment_df, sentiment_type='Positive')"
   ]
  },
  {
   "cell_type": "code",
   "execution_count": null,
   "metadata": {},
   "outputs": [],
   "source": [
    "print(\"Creating word cloud for negative reviews...\")\n",
    "visualizer.create_wordcloud(sentiment_df, sentiment_type='Negative')"
   ]
  },
  {
   "cell_type": "markdown",
   "metadata": {},
   "source": [
    "## 6. Key Insights from Sample Data"
   ]
  },
  {
   "cell_type": "code",
   "execution_count": null,
   "metadata": {},
   "outputs": [],
   "source": [
    "# Calculate insights\n",
    "total_reviews = len(sentiment_df)\n",
    "positive_count = len(sentiment_df[sentiment_df['sentiment'] == 'Positive'])\n",
    "negative_count = len(sentiment_df[sentiment_df['sentiment'] == 'Negative'])\n",
    "avg_rating = sentiment_df['rating'].mean()\n",
    "avg_polarity = sentiment_df['polarity'].mean()\n",
    "correlation = sentiment_df['rating'].corr(sentiment_df['polarity'])\n",
    "\n",
    "print(\"=\" * 100)\n",
    "print(\"KEY INSIGHTS FROM SAMPLE DATA\")\n",
    "print(\"=\" * 100)\n",
    "print(f\"\\n1. Dataset Overview:\")\n",
    "print(f\"   Total Reviews: {total_reviews}\")\n",
    "print(f\"   Positive Reviews: {positive_count} ({positive_count/total_reviews*100:.1f}%)\")\n",
    "print(f\"   Negative Reviews: {negative_count} ({negative_count/total_reviews*100:.1f}%)\")\n",
    "\n",
    "print(f\"\\n2. Average Metrics:\")\n",
    "print(f\"   Average Rating: {avg_rating:.2f} / 5.0\")\n",
    "print(f\"   Average Polarity: {avg_polarity:.3f}\")\n",
    "\n",
    "print(f\"\\n3. Rating-Sentiment Correlation:\")\n",
    "print(f\"   Correlation Coefficient: {correlation:.3f}\")\n",
    "if correlation > 0.7:\n",
    "    print(\"   Strong positive correlation between ratings and sentiment\")\n",
    "elif correlation > 0.4:\n",
    "    print(\"   Moderate positive correlation between ratings and sentiment\")\n",
    "else:\n",
    "    print(\"   Weak correlation between ratings and sentiment\")\n",
    "\n",
    "print(f\"\\n4. Sentiment Categories:\")\n",
    "for category, count in sentiment_df['sentiment_category'].value_counts().items():\n",
    "    print(f\"   {category}: {count} ({count/total_reviews*100:.1f}%)\")\n",
    "\n",
    "print(\"\\n\" + \"=\" * 100)"
   ]
  },
  {
   "cell_type": "markdown",
   "metadata": {},
   "source": [
    "## 7. Common Words Analysis"
   ]
  },
  {
   "cell_type": "code",
   "execution_count": null,
   "metadata": {},
   "outputs": [],
   "source": [
    "from collections import Counter\n",
    "\n",
    "# Positive reviews word frequency\n",
    "positive_reviews = sentiment_df[sentiment_df['sentiment'] == 'Positive']['preprocessed_text']\n",
    "positive_words = ' '.join(positive_reviews.astype(str)).split()\n",
    "positive_word_freq = Counter(positive_words).most_common(10)\n",
    "\n",
    "print(\"Top 10 Words in Positive Reviews:\")\n",
    "print(\"=\" * 60)\n",
    "for word, freq in positive_word_freq:\n",
    "    print(f\"{word:20s} : {freq:3d}\")\n",
    "\n",
    "# Negative reviews word frequency\n",
    "negative_reviews = sentiment_df[sentiment_df['sentiment'] == 'Negative']['preprocessed_text']\n",
    "if len(negative_reviews) > 0:\n",
    "    negative_words = ' '.join(negative_reviews.astype(str)).split()\n",
    "    negative_word_freq = Counter(negative_words).most_common(10)\n",
    "\n",
    "    print(\"\\nTop 10 Words in Negative Reviews:\")\n",
    "    print(\"=\" * 60)\n",
    "    for word, freq in negative_word_freq:\n",
    "        print(f\"{word:20s} : {freq:3d}\")"
   ]
  },
  {
   "cell_type": "markdown",
   "metadata": {},
   "source": [
    "## Conclusion\n",
    "\n",
    "This demo successfully demonstrates:\n",
    "\n",
    "1. **Input**: Sample customer reviews with username, rating, and review text\n",
    "2. **Preprocessing**: Text cleaning, tokenization, stop word removal, and lemmatization\n",
    "3. **Sentiment Analysis**: Polarity scoring and sentiment classification using TextBlob\n",
    "4. **Output**: Sentiment scores, classifications, and detailed analytics\n",
    "5. **Visualizations**: Multiple charts showing sentiment patterns and distributions\n",
    "6. **Insights**: Actionable insights about customer sentiment\n",
    "\n",
    "The system can be scaled to analyze 300+ reviews from actual web scraping as shown in the main notebook."
   ]
  }
 ],
 "metadata": {
  "kernelspec": {
   "display_name": "Python 3",
   "language": "python",
   "name": "python3"
  },
  "language_info": {
   "codemirror_mode": {
    "name": "ipython",
    "version": 3
   },
   "file_extension": ".py",
   "mimetype": "text/x-python",
   "name": "python",
   "nbconvert_exporter": "python",
   "pygments_lexer": "ipython3",
   "version": "3.9.0"
  }
 },
 "nbformat": 4,
 "nbformat_minor": 4
}
